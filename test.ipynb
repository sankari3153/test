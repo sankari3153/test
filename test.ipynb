{
  "nbformat": 4,
  "nbformat_minor": 0,
  "metadata": {
    "colab": {
      "provenance": [],
      "authorship_tag": "ABX9TyMl+o0/lp+jNfxuDHC8pmxV",
      "include_colab_link": true
    },
    "kernelspec": {
      "name": "python3",
      "display_name": "Python 3"
    },
    "language_info": {
      "name": "python"
    }
  },
  "cells": [
    {
      "cell_type": "markdown",
      "metadata": {
        "id": "view-in-github",
        "colab_type": "text"
      },
      "source": [
        "<a href=\"https://colab.research.google.com/github/sankari3153/test/blob/main/test.ipynb\" target=\"_parent\"><img src=\"https://colab.research.google.com/assets/colab-badge.svg\" alt=\"Open In Colab\"/></a>"
      ]
    },
    {
      "cell_type": "code",
      "execution_count": 11,
      "metadata": {
        "id": "7D-HzZte8SHF"
      },
      "outputs": [],
      "source": [
        "class Person:\n",
        "  def _init_(self, name, age):\n",
        "    self.name = name\n",
        "    self.age = age\n",
        "    p1 = Person(\"John\", 36)\n",
        "    print(p1.name)\n",
        "    print(p1.age)"
      ]
    },
    {
      "cell_type": "code",
      "source": [
        "fruits = [\"apple\", \"banana\", \"cherry\"]\n",
        "for x in fruits:\n",
        "  print(x)\n",
        "if x == \"banana\":\n",
        "  break"
      ],
      "metadata": {
        "colab": {
          "base_uri": "https://localhost:8080/",
          "height": 159
        },
        "id": "juTm5iY39TYo",
        "outputId": "f3757b3d-b61b-4ad6-f49b-87d2ae0c9768"
      },
      "execution_count": 6,
      "outputs": [
        {
          "output_type": "stream",
          "name": "stdout",
          "text": [
            "apple\n",
            "banana\n",
            "cherry\n"
          ]
        },
        {
          "output_type": "error",
          "ename": "SyntaxError",
          "evalue": "'break' outside loop (<ipython-input-6-3200ee2a554a>, line 5)",
          "traceback": [
            "\u001b[0;36m  File \u001b[0;32m\"<ipython-input-6-3200ee2a554a>\"\u001b[0;36m, line \u001b[0;32m5\u001b[0m\n\u001b[0;31m    break\u001b[0m\n\u001b[0m    ^\u001b[0m\n\u001b[0;31mSyntaxError\u001b[0m\u001b[0;31m:\u001b[0m 'break' outside loop\n"
          ]
        }
      ]
    },
    {
      "cell_type": "code",
      "source": [
        "def my_function(fname):\n",
        "  print(fname + \" Refsnes\")\n",
        "my_function(\"Emil\")\n",
        "my_function(\"Tobias\")\n",
        "my_function(\"Linus\")"
      ],
      "metadata": {
        "colab": {
          "base_uri": "https://localhost:8080/"
        },
        "id": "MgResMqu9nCo",
        "outputId": "583d328a-4eea-475c-e2f4-6422a050367d"
      },
      "execution_count": 7,
      "outputs": [
        {
          "output_type": "stream",
          "name": "stdout",
          "text": [
            "Emil Refsnes\n",
            "Tobias Refsnes\n",
            "Linus Refsnes\n"
          ]
        }
      ]
    },
    {
      "cell_type": "code",
      "source": [
        "def my_function():\n",
        "  print(\"Hello from a function\")\n",
        "my_function()"
      ],
      "metadata": {
        "colab": {
          "base_uri": "https://localhost:8080/"
        },
        "id": "pJ-xPhy5-CRi",
        "outputId": "1cf34e09-1ea9-4b17-8b06-fd2f6fc62235"
      },
      "execution_count": 14,
      "outputs": [
        {
          "output_type": "stream",
          "name": "stdout",
          "text": [
            "Hello from a function\n"
          ]
        }
      ]
    },
    {
      "cell_type": "code",
      "source": [
        " i = 1\n",
        "while i < 6:\n",
        "  print(i)\n",
        "  i += 1"
      ],
      "metadata": {
        "colab": {
          "base_uri": "https://localhost:8080/"
        },
        "id": "Oq3Nqx7_-OIw",
        "outputId": "07fdc076-a833-4c11-e6d8-a34073794867"
      },
      "execution_count": 16,
      "outputs": [
        {
          "output_type": "stream",
          "name": "stdout",
          "text": [
            "1\n",
            "2\n",
            "3\n",
            "4\n",
            "5\n"
          ]
        }
      ]
    },
    {
      "cell_type": "code",
      "source": [
        "x = lambda a : a + 10\n",
        "print(x(5))\n"
      ],
      "metadata": {
        "colab": {
          "base_uri": "https://localhost:8080/"
        },
        "id": "XO5eLqUA-f_B",
        "outputId": "c629d5e3-1661-4969-dcf8-be5e93c27e92"
      },
      "execution_count": 17,
      "outputs": [
        {
          "output_type": "stream",
          "name": "stdout",
          "text": [
            "15\n"
          ]
        }
      ]
    },
    {
      "cell_type": "code",
      "source": [
        "\n",
        "\n",
        "def calculateBill(units):\n",
        "\n",
        "\n",
        "\n",
        "\n",
        "\n",
        "\n",
        "\n",
        "\n",
        "    if (units <= 100):\n",
        "\n",
        "\n",
        "\n",
        "        return units * 10;\n",
        "\n",
        "\n",
        "\n",
        "    elif (units <= 200):\n",
        "\n",
        "\n",
        "\n",
        "        return ((100 * 10) +\n",
        "\n",
        "                (units - 100) * 15);\n",
        "\n",
        "\n",
        "\n",
        "    elif (units <= 300):\n",
        "\n",
        "\n",
        "\n",
        "        return ((100 * 10) +\n",
        "\n",
        "                (100 * 15) +\n",
        "\n",
        "                (units - 200) * 20);\n",
        "\n",
        "\n",
        "\n",
        "    elif (units > 300):\n",
        "\n",
        "\n",
        "\n",
        "        return ((100 * 10) +\n",
        "\n",
        "                (100 * 15) +\n",
        "\n",
        "                (100 * 20) +\n",
        "\n",
        "                (units - 300) * 25);\n",
        "\n",
        "\n",
        "\n",
        "    return 0;\n",
        "\n",
        "\n",
        "\n",
        "units = 250;\n",
        "\n",
        "print(calculateBill(units));\n",
        ""
      ],
      "metadata": {
        "colab": {
          "base_uri": "https://localhost:8080/"
        },
        "id": "IHj3ceia-nXn",
        "outputId": "c8e37266-66f0-4a37-ba3d-f3bf4862a164"
      },
      "execution_count": 18,
      "outputs": [
        {
          "output_type": "stream",
          "name": "stdout",
          "text": [
            "3500\n"
          ]
        }
      ]
    }
  ]
}