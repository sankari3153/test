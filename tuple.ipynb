{
  "nbformat": 4,
  "nbformat_minor": 0,
  "metadata": {
    "colab": {
      "provenance": [],
      "authorship_tag": "ABX9TyO77blIClMlhK/fnqMIdHs7",
      "include_colab_link": true
    },
    "kernelspec": {
      "name": "python3",
      "display_name": "Python 3"
    },
    "language_info": {
      "name": "python"
    }
  },
  "cells": [
    {
      "cell_type": "markdown",
      "metadata": {
        "id": "view-in-github",
        "colab_type": "text"
      },
      "source": [
        "<a href=\"https://colab.research.google.com/github/sankari3153/test/blob/main/tuple.ipynb\" target=\"_parent\"><img src=\"https://colab.research.google.com/assets/colab-badge.svg\" alt=\"Open In Colab\"/></a>"
      ]
    },
    {
      "cell_type": "code",
      "execution_count": 11,
      "metadata": {
        "id": "7D-HzZte8SHF"
      },
      "outputs": [],
      "source": [
        "class Person:\n",
        "  def _init_(self, name, age):\n",
        "    self.name = name\n",
        "    self.age = age\n",
        "    p1 = Person(\"John\", 36)\n",
        "    print(p1.name)\n",
        "    print(p1.age)"
      ]
    },
    {
      "cell_type": "code",
      "source": [
        "fruits = [\"apple\", \"banana\", \"cherry\"]\n",
        "for x in fruits:\n",
        "  print(x)\n",
        "if x == \"banana\":\n",
        "  break"
      ],
      "metadata": {
        "colab": {
          "base_uri": "https://localhost:8080/",
          "height": 159
        },
        "id": "juTm5iY39TYo",
        "outputId": "f3757b3d-b61b-4ad6-f49b-87d2ae0c9768"
      },
      "execution_count": 6,
      "outputs": [
        {
          "output_type": "stream",
          "name": "stdout",
          "text": [
            "apple\n",
            "banana\n",
            "cherry\n"
          ]
        },
        {
          "output_type": "error",
          "ename": "SyntaxError",
          "evalue": "'break' outside loop (<ipython-input-6-3200ee2a554a>, line 5)",
          "traceback": [
            "\u001b[0;36m  File \u001b[0;32m\"<ipython-input-6-3200ee2a554a>\"\u001b[0;36m, line \u001b[0;32m5\u001b[0m\n\u001b[0;31m    break\u001b[0m\n\u001b[0m    ^\u001b[0m\n\u001b[0;31mSyntaxError\u001b[0m\u001b[0;31m:\u001b[0m 'break' outside loop\n"
          ]
        }
      ]
    },
    {
      "cell_type": "code",
      "source": [
        "def my_function(fname):\n",
        "  print(fname + \" Refsnes\")\n",
        "my_function(\"Emil\")\n",
        "my_function(\"Tobias\")\n",
        "my_function(\"Linus\")"
      ],
      "metadata": {
        "colab": {
          "base_uri": "https://localhost:8080/"
        },
        "id": "MgResMqu9nCo",
        "outputId": "583d328a-4eea-475c-e2f4-6422a050367d"
      },
      "execution_count": 7,
      "outputs": [
        {
          "output_type": "stream",
          "name": "stdout",
          "text": [
            "Emil Refsnes\n",
            "Tobias Refsnes\n",
            "Linus Refsnes\n"
          ]
        }
      ]
    },
    {
      "cell_type": "code",
      "source": [
        "def my_function():\n",
        "  print(\"Hello from a function\")\n",
        "my_function()"
      ],
      "metadata": {
        "colab": {
          "base_uri": "https://localhost:8080/"
        },
        "id": "pJ-xPhy5-CRi",
        "outputId": "1cf34e09-1ea9-4b17-8b06-fd2f6fc62235"
      },
      "execution_count": 14,
      "outputs": [
        {
          "output_type": "stream",
          "name": "stdout",
          "text": [
            "Hello from a function\n"
          ]
        }
      ]
    },
    {
      "cell_type": "code",
      "source": [
        " i = 1\n",
        "while i < 6:\n",
        "  print(i)\n",
        "  i += 1"
      ],
      "metadata": {
        "colab": {
          "base_uri": "https://localhost:8080/"
        },
        "id": "Oq3Nqx7_-OIw",
        "outputId": "07fdc076-a833-4c11-e6d8-a34073794867"
      },
      "execution_count": 16,
      "outputs": [
        {
          "output_type": "stream",
          "name": "stdout",
          "text": [
            "1\n",
            "2\n",
            "3\n",
            "4\n",
            "5\n"
          ]
        }
      ]
    },
    {
      "cell_type": "code",
      "source": [
        "x = lambda a : a + 10\n",
        "print(x(5))\n"
      ],
      "metadata": {
        "colab": {
          "base_uri": "https://localhost:8080/"
        },
        "id": "XO5eLqUA-f_B",
        "outputId": "c629d5e3-1661-4969-dcf8-be5e93c27e92"
      },
      "execution_count": 17,
      "outputs": [
        {
          "output_type": "stream",
          "name": "stdout",
          "text": [
            "15\n"
          ]
        }
      ]
    },
    {
      "cell_type": "code",
      "source": [
        "\n",
        "\n",
        "def calculateBill(units):\n",
        "\n",
        "\n",
        "\n",
        "\n",
        "\n",
        "\n",
        "\n",
        "\n",
        "    if (units <= 100):\n",
        "\n",
        "\n",
        "\n",
        "        return units * 10;\n",
        "\n",
        "\n",
        "\n",
        "    elif (units <= 200):\n",
        "\n",
        "\n",
        "\n",
        "        return ((100 * 10) +\n",
        "\n",
        "                (units - 100) * 15);\n",
        "\n",
        "\n",
        "\n",
        "    elif (units <= 300):\n",
        "\n",
        "\n",
        "\n",
        "        return ((100 * 10) +\n",
        "\n",
        "                (100 * 15) +\n",
        "\n",
        "                (units - 200) * 20);\n",
        "\n",
        "\n",
        "\n",
        "    elif (units > 300):\n",
        "\n",
        "\n",
        "\n",
        "        return ((100 * 10) +\n",
        "\n",
        "                (100 * 15) +\n",
        "\n",
        "                (100 * 20) +\n",
        "\n",
        "                (units - 300) * 25);\n",
        "\n",
        "\n",
        "\n",
        "    return 0;\n",
        "\n",
        "\n",
        "\n",
        "units = 250;\n",
        "\n",
        "print(calculateBill(units));\n",
        ""
      ],
      "metadata": {
        "colab": {
          "base_uri": "https://localhost:8080/"
        },
        "id": "IHj3ceia-nXn",
        "outputId": "c8e37266-66f0-4a37-ba3d-f3bf4862a164"
      },
      "execution_count": 18,
      "outputs": [
        {
          "output_type": "stream",
          "name": "stdout",
          "text": [
            "3500\n"
          ]
        }
      ]
    },
    {
      "cell_type": "code",
      "source": [
        "values : tuple[int | str, ...] = (1,2,4,\"Geek\")\n",
        "print(values)\n"
      ],
      "metadata": {
        "colab": {
          "base_uri": "https://localhost:8080/"
        },
        "id": "NkJifnOZMCj-",
        "outputId": "8ce27944-a71c-46d5-843e-d60e8d588903"
      },
      "execution_count": 20,
      "outputs": [
        {
          "output_type": "stream",
          "name": "stdout",
          "text": [
            "(1, 2, 4, 'Geek')\n"
          ]
        }
      ]
    },
    {
      "cell_type": "code",
      "source": [
        "mytuple = (\"Geeks\",)\n",
        "print(type(mytuple))\n",
        "\n",
        "#NOT a tuple\n",
        "mytuple = (\"Geeks\")\n",
        "print(type(mytuple))\n"
      ],
      "metadata": {
        "colab": {
          "base_uri": "https://localhost:8080/"
        },
        "id": "YjpZQC8UMGtt",
        "outputId": "c549e168-f7ca-44e8-e22a-b6ceac8a125b"
      },
      "execution_count": 21,
      "outputs": [
        {
          "output_type": "stream",
          "name": "stdout",
          "text": [
            "<class 'tuple'>\n",
            "<class 'str'>\n"
          ]
        }
      ]
    },
    {
      "cell_type": "code",
      "source": [
        "tuple_constructor = tuple((\"dsa\", \"developement\", \"deep learning\"))\n",
        "print(tuple_constructor)\n"
      ],
      "metadata": {
        "colab": {
          "base_uri": "https://localhost:8080/"
        },
        "id": "pf0KvTmAMRrs",
        "outputId": "5344ad16-bfd2-409d-c94a-5c9a12846556"
      },
      "execution_count": 22,
      "outputs": [
        {
          "output_type": "stream",
          "name": "stdout",
          "text": [
            "('dsa', 'developement', 'deep learning')\n"
          ]
        }
      ]
    },
    {
      "cell_type": "code",
      "source": [
        "mytuple = (1, 2, 3, 4, 5)\n",
        "\n",
        "# tuples are indexed\n",
        "print(mytuple[1])\n",
        "print(mytuple[4])\n",
        "\n",
        "\n"
      ],
      "metadata": {
        "colab": {
          "base_uri": "https://localhost:8080/"
        },
        "id": "kDHztb0yMWHk",
        "outputId": "13434a3d-2482-4eb9-ddf0-cd3b2c88ff66"
      },
      "execution_count": 25,
      "outputs": [
        {
          "output_type": "stream",
          "name": "stdout",
          "text": [
            "2\n",
            "5\n"
          ]
        }
      ]
    },
    {
      "cell_type": "code",
      "source": [
        "# Code for creating nested tuples\n",
        "tuple1 = (0, 1, 2, 3)\n",
        "tuple2 = ('python', 'geek')\n",
        "\n",
        "tuple3 = (tuple1, tuple2)\n",
        "print(tuple3)\n"
      ],
      "metadata": {
        "colab": {
          "base_uri": "https://localhost:8080/"
        },
        "id": "7d0ht27OMikM",
        "outputId": "f518a583-ead8-4fc1-81c4-196689f8674d"
      },
      "execution_count": 26,
      "outputs": [
        {
          "output_type": "stream",
          "name": "stdout",
          "text": [
            "((0, 1, 2, 3), ('python', 'geek'))\n"
          ]
        }
      ]
    },
    {
      "cell_type": "code",
      "source": [
        "# Python3 code to demonstrate working of\n",
        "# Concatenating tuples to nested tuples\n",
        "# using + operator + \", \" operator during initialization\n",
        "\n",
        "# initialize tuples\n",
        "test_tup1 = (3, 4),\n",
        "test_tup2 = (5, 6),\n",
        "\n",
        "print(\"The original tuple 1 : \" + str(test_tup1))\n",
        "print(\"The original tuple 2 : \" + str(test_tup2))\n",
        "\n",
        "res = test_tup1 + test_tup2\n",
        "\n",
        "\n",
        "print(\"Tuples after Concatenating : \" + str(res))\n"
      ],
      "metadata": {
        "colab": {
          "base_uri": "https://localhost:8080/"
        },
        "id": "DLgsHM36MlQt",
        "outputId": "0e49585b-3df6-40a2-a030-b0c11f05ec80"
      },
      "execution_count": 27,
      "outputs": [
        {
          "output_type": "stream",
          "name": "stdout",
          "text": [
            "The original tuple 1 : ((3, 4),)\n",
            "The original tuple 2 : ((5, 6),)\n",
            "Tuples after Concatenating : ((3, 4), (5, 6))\n"
          ]
        }
      ]
    },
    {
      "cell_type": "code",
      "source": [
        "# Python3 code to demonstrate working of\n",
        "# Unpacking nested tuples\n",
        "# using generator expressions\n",
        "\n",
        "# initialize list\n",
        "test_list = [(4, (5, 'Gfg')), (7, (8, 6))]\n",
        "\n",
        "# printing original list\n",
        "print(\"The original list is : \" + str(test_list))\n",
        "\n",
        "# Unpacking nested tuples\n",
        "# using generator expressions\n",
        "res = ((x, y, z) for x, (y, z) in test_list)\n",
        "\n",
        "# printing result\n",
        "print(\"The unpacked nested tuple list is : \" + str(list(res)))\n"
      ],
      "metadata": {
        "colab": {
          "base_uri": "https://localhost:8080/"
        },
        "id": "NQ_HenBXNHU8",
        "outputId": "5fcdd900-862f-47c3-cacd-2bdb87ea27b0"
      },
      "execution_count": 28,
      "outputs": [
        {
          "output_type": "stream",
          "name": "stdout",
          "text": [
            "The original list is : [(4, (5, 'Gfg')), (7, (8, 6))]\n",
            "The unpacked nested tuple list is : [(4, 5, 'Gfg'), (7, 8, 6)]\n"
          ]
        }
      ]
    },
    {
      "cell_type": "code",
      "source": [
        "# Python3 code to demonstrate working of\n",
        "# Unpacking Integer Keys in Strings\n",
        "# Using format() + * operator + values()\n",
        "\n",
        "# initializing string\n",
        "test_str = \"First value is {} Second is {} Third {}\"\n",
        "\n",
        "# printing original string\n",
        "print(\"The original string is : \" + str(test_str))\n",
        "\n",
        "# initializing dictionary\n",
        "test_dict = {3 : \"Gfg\", 4 : \"is\", 9 : \"Best\"}\n",
        "\n",
        "# using format() for mapping required values\n",
        "res = test_str.format(*test_dict.values())\n",
        "\n",
        "# printing result\n",
        "print(\"String after unpacking dictionary : \" + str(res))\n"
      ],
      "metadata": {
        "colab": {
          "base_uri": "https://localhost:8080/"
        },
        "id": "FG8HEqobNHvU",
        "outputId": "36ab3da4-5c30-4b1b-f982-6e5049cb3815"
      },
      "execution_count": 29,
      "outputs": [
        {
          "output_type": "stream",
          "name": "stdout",
          "text": [
            "The original string is : First value is {} Second is {} Third {}\n",
            "String after unpacking dictionary : First value is Gfg Second is is Third Best\n"
          ]
        }
      ]
    },
    {
      "cell_type": "code",
      "source": [
        "# Python3 code to demonstrate working of\n",
        "# Cross Tuple AND operation\n",
        "# using map() + lambda\n",
        "\n",
        "# initialize tuples\n",
        "test_tup1 = (10, 4, 5)\n",
        "test_tup2 = (2, 5, 18)\n",
        "\n",
        "# printing original tuples\n",
        "print(\"The original tuple 1 : \" + str(test_tup1))\n",
        "print(\"The original tuple 2 : \" + str(test_tup2))\n",
        "\n",
        "# Cross Tuple AND operation\n",
        "# using map() + lambda\n",
        "res = tuple(map(lambda i, j: i & j, test_tup1, test_tup2))\n",
        "\n",
        "# printing result\n",
        "print(\"Resultant tuple after AND operation : \" + str(res))\n"
      ],
      "metadata": {
        "colab": {
          "base_uri": "https://localhost:8080/"
        },
        "id": "3ghq9fRdNH99",
        "outputId": "5dd4a22f-e37d-4bc1-8208-23cbc03728f2"
      },
      "execution_count": 30,
      "outputs": [
        {
          "output_type": "stream",
          "name": "stdout",
          "text": [
            "The original tuple 1 : (10, 4, 5)\n",
            "The original tuple 2 : (2, 5, 18)\n",
            "Resultant tuple after AND operation : (2, 4, 0)\n"
          ]
        }
      ]
    },
    {
      "cell_type": "code",
      "source": [
        "def summation(test_tup):\n",
        "\n",
        "\t# Converting into list\n",
        "\ttest = list(test_tup)\n",
        "\n",
        "\t# Initializing count\n",
        "\tcount = 0\n",
        "\n",
        "\t# for loop\n",
        "\tfor i in test:\n",
        "\t\tcount += i\n",
        "\treturn count\n",
        "\n",
        "\n",
        "# Initializing test_tup\n",
        "test_tup = (5, 20, 3, 7, 6, 8)\n",
        "print(summation(test_tup))\n"
      ],
      "metadata": {
        "colab": {
          "base_uri": "https://localhost:8080/"
        },
        "id": "aIqRgLl6NIH0",
        "outputId": "adec5964-af93-4165-914f-2871e284180b"
      },
      "execution_count": 31,
      "outputs": [
        {
          "output_type": "stream",
          "name": "stdout",
          "text": [
            "49\n"
          ]
        }
      ]
    },
    {
      "cell_type": "code",
      "source": [
        "# Python program to illustrate\n",
        "# Finding common member in list\n",
        "# without using 'in' operator\n",
        "\n",
        "# Define a function() that takes two lists\n",
        "\n",
        "\n",
        "def overlapping(list1, list2):\n",
        "\n",
        "\tc = 0\n",
        "\td = 0\n",
        "\tfor i in list1:\n",
        "\t\tc += 1\n",
        "\tfor i in list2:\n",
        "\t\td += 1\n",
        "\tfor i in range(0, c):\n",
        "\t\tfor j in range(0, d):\n",
        "\t\t\tif(list1[i] == list2[j]):\n",
        "\t\t\t\treturn 1\n",
        "\treturn 0\n",
        "\n",
        "\n",
        "list1 = [1, 2, 3, 4, 5]\n",
        "list2 = [6, 7, 8, 9]\n",
        "if(overlapping(list1, list2)):\n",
        "\tprint(\"overlapping\")\n",
        "else:\n",
        "\tprint(\"not overlapping\")\n"
      ],
      "metadata": {
        "colab": {
          "base_uri": "https://localhost:8080/"
        },
        "id": "DzKwUcrVNIRM",
        "outputId": "d7375a55-f448-4a34-8944-5fb70ba3a4ad"
      },
      "execution_count": 32,
      "outputs": [
        {
          "output_type": "stream",
          "name": "stdout",
          "text": [
            "not overlapping\n"
          ]
        }
      ]
    },
    {
      "cell_type": "code",
      "source": [
        "# create a list of tuples with student\n",
        "# details\n",
        "name = [('s.ravan',7058,98.45),\n",
        "\t\t('o.jaswi',7059,90.67),\n",
        "\t\t('bobby',7060,78.90),\n",
        "\t\t('rohith',7081,67.89),\n",
        "\t\t('gnanesh',7084,98.01)]\n",
        "\n",
        "# iterate using for loop\n",
        "for x in name:\n",
        "  for y in x:\n",
        "    print(y)\n",
        "\n",
        "print()\n"
      ],
      "metadata": {
        "colab": {
          "base_uri": "https://localhost:8080/"
        },
        "id": "KAhlsjUGNIZl",
        "outputId": "5bfb55e7-322a-4a1d-c592-403e8e282d72"
      },
      "execution_count": 35,
      "outputs": [
        {
          "output_type": "stream",
          "name": "stdout",
          "text": [
            "s.ravan\n",
            "7058\n",
            "98.45\n",
            "o.jaswi\n",
            "7059\n",
            "90.67\n",
            "bobby\n",
            "7060\n",
            "78.9\n",
            "rohith\n",
            "7081\n",
            "67.89\n",
            "gnanesh\n",
            "7084\n",
            "98.01\n",
            "\n"
          ]
        }
      ]
    }
  ]
}